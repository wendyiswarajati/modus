{
 "cells": [
  {
   "cell_type": "code",
   "execution_count": 3,
   "metadata": {},
   "outputs": [
    {
     "name": "stdout",
     "output_type": "stream",
     "text": [
      "Dataset  : [1, 2, 3, 4, 5, 6, 7, 10]\n",
      "Frekuensi: [1, 3, 5, 1, 1, 5, 1, 1]\n",
      "Modus    : [3, 6]\n",
      "Dataset  : [1, 2, 3, 4, 5, 6, 7, 10]\n",
      "Frekuensi: [1, 3, 5, 1, 1, 5, 1, 1]\n",
      "Minimum  : [1, 4, 5, 7, 10]\n"
     ]
    }
   ],
   "source": [
    "data = [ 1,2,3,3,5,2,7,2,6,6,6,6,6,4,10,3,3,3 ]\n",
    "def modus(x):\n",
    "    unik_x = list(set(x))\n",
    "    count = 0\n",
    "    freq = []\n",
    "    for item in unik_x:\n",
    "        for i in x:\n",
    "            if item == i:\n",
    "                count += 1;\n",
    "        freq.append(count);\n",
    "        count = 0;\n",
    "    print(\"Dataset  : \" + str(unik_x))\n",
    "    print(\"Frekuensi: \" + str(freq))\n",
    "    modus = []\n",
    "    minimum = []\n",
    "    for index in range(len(freq)):\n",
    "        if freq[index] == max(freq):\n",
    "            modus.append(unik_x[index])\n",
    "        elif freq[index] == min(freq):\n",
    "            minimum.append(unik_x[index])\n",
    "    return modus, minimum\n",
    "\n",
    "print('Modus    : ' + str(modus(data)[0]));\n",
    "print('Minimum  : ' + str(modus(data)[1]));"
   ]
  },
  {
   "cell_type": "code",
   "execution_count": null,
   "metadata": {},
   "outputs": [],
   "source": []
  }
 ],
 "metadata": {
  "kernelspec": {
   "display_name": "Python 3",
   "language": "python",
   "name": "python3"
  },
  "language_info": {
   "codemirror_mode": {
    "name": "ipython",
    "version": 3
   },
   "file_extension": ".py",
   "mimetype": "text/x-python",
   "name": "python",
   "nbconvert_exporter": "python",
   "pygments_lexer": "ipython3",
   "version": "3.7.1"
  }
 },
 "nbformat": 4,
 "nbformat_minor": 2
}
